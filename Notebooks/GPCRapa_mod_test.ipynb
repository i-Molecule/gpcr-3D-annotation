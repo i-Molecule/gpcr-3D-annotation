{
 "cells": [
  {
   "cell_type": "code",
   "execution_count": 1,
   "metadata": {},
   "outputs": [],
   "source": [
    "import os,sys\n",
    "import pandas as pd\n",
    "import numpy as np\n",
    "import joblib\n",
    "\n",
    "import param as pr\n",
    "import mapping_and_seq_mod as ms\n",
    "import feature_calc_mod as fc\n",
    "import apply_model_mod as aplm"
   ]
  },
  {
   "cell_type": "code",
   "execution_count": 3,
   "metadata": {},
   "outputs": [],
   "source": [
    "pdb_id = \"tttesttt\"\n",
    "PDBFile = \"/home/ilya/work/Projects/Article/AGTR1_dynamics/4ZUD_md/4ZUD_clean.pdb\"\n",
    "dir_path = (\"/home/ilya/work/Projects/GPCRapa_mod_test/test/\")# path to working directory\n",
    "out_path = os.path.join(\"/home/ilya/work/Projects/GPCRapa_mod_test/test/\")# path to output directory"
   ]
  },
  {
   "cell_type": "code",
   "execution_count": 4,
   "metadata": {},
   "outputs": [
    {
     "name": "stdout",
     "output_type": "stream",
     "text": [
      "/home/ilya/work/Projects/GPCRapa_mod_test/test/tttesttt_mapping.csv\n"
     ]
    },
    {
     "data": {
      "text/plain": [
       "array([[0.98, 0.02]])"
      ]
     },
     "execution_count": 4,
     "metadata": {},
     "output_type": "execute_result"
    }
   ],
   "source": [
    "map_df = ms.GPCRdb_mapping_for_sequence(pdb_id, PDBFile, pr.path_to_gpcrdb_files, dir_path, out_path,\n",
    "                                pr.new_seq_aligned_to_GPCRdb_seq_database, pr.canonical_residues_dict,\n",
    "                                pr.gpcrdb_alignment, pr.gpcrdb_numeration, pr.his_types, pr.d)\n",
    "res_df = fc.calc_dist_feature_modif_no_c_id(PDBFile, map_df, pdb_id, pr.one_mod_df,\n",
    "                                pr.bi_mod_df, pr.d, pr.res_contact_list, pr.one_mod_feat, \n",
    "                                pr.his_types)\n",
    "aplm.model_apply(res_df, pr.model)"
   ]
  },
  {
   "cell_type": "code",
   "execution_count": null,
   "metadata": {},
   "outputs": [],
   "source": [
    "print(pr.his_types)\n",
    "print(pr.path_to_GPCRapa)\n",
    "print(pr.d)\n",
    "print(pr.path_to_gpcrdb_files)\n",
    "print(pr.new_seq_aligned_to_GPCRdb_seq_database)\n",
    "print(pr.canonical_residues)\n",
    "print(pr.canonical_residues_dict)\n",
    "print(pr.gpcrdb_alignment)\n",
    "print(pr.gpcrdb_numeration)\n",
    "print(pr.one_mod_df)\n",
    "print(pr.bi_mod_df)\n",
    "print(pr.inv_d)\n",
    "print(pr.one_mod_feat)\n",
    "print(pr.res_contact_list)\n",
    "print(pr.model)"
   ]
  }
 ],
 "metadata": {
  "kernelspec": {
   "display_name": "Python 3",
   "language": "python",
   "name": "python3"
  },
  "language_info": {
   "codemirror_mode": {
    "name": "ipython",
    "version": 3
   },
   "file_extension": ".py",
   "mimetype": "text/x-python",
   "name": "python",
   "nbconvert_exporter": "python",
   "pygments_lexer": "ipython3",
   "version": "3.8.5"
  }
 },
 "nbformat": 4,
 "nbformat_minor": 4
}
